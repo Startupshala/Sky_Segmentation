{
  "nbformat": 4,
  "nbformat_minor": 0,
  "metadata": {
    "colab": {
      "name": "sky_segmentation.ipynb",
      "provenance": [],
      "machine_shape": "hm"
    },
    "kernelspec": {
      "name": "python3",
      "display_name": "Python 3"
    },
    "accelerator": "GPU"
  },
  "cells": [
    {
      "cell_type": "code",
      "metadata": {
        "id": "jTf9fcVKLJl-",
        "colab_type": "code",
        "outputId": "4f2f3f2b-1c79-49d7-82da-09f238110e2c",
        "colab": {
          "base_uri": "https://localhost:8080/",
          "height": 649
        }
      },
      "source": [
        "!pip install tensorflow-gpu==2.0-beta1"
      ],
      "execution_count": 0,
      "outputs": [
        {
          "output_type": "stream",
          "text": [
            "Collecting tensorflow-gpu==2.0-beta1\n",
            "\u001b[?25l  Downloading https://files.pythonhosted.org/packages/2b/53/e18c5e7a2263d3581a979645a185804782e59b8e13f42b9c3c3cfb5bb503/tensorflow_gpu-2.0.0b1-cp36-cp36m-manylinux1_x86_64.whl (348.9MB)\n",
            "\u001b[K     |████████████████████████████████| 348.9MB 19kB/s \n",
            "\u001b[?25hRequirement already satisfied: astor>=0.6.0 in /usr/local/lib/python3.6/dist-packages (from tensorflow-gpu==2.0-beta1) (0.8.1)\n",
            "Requirement already satisfied: protobuf>=3.6.1 in /usr/local/lib/python3.6/dist-packages (from tensorflow-gpu==2.0-beta1) (3.10.0)\n",
            "Requirement already satisfied: wrapt>=1.11.1 in /usr/local/lib/python3.6/dist-packages (from tensorflow-gpu==2.0-beta1) (1.11.2)\n",
            "Requirement already satisfied: numpy<2.0,>=1.14.5 in /usr/local/lib/python3.6/dist-packages (from tensorflow-gpu==2.0-beta1) (1.17.5)\n",
            "Requirement already satisfied: termcolor>=1.1.0 in /usr/local/lib/python3.6/dist-packages (from tensorflow-gpu==2.0-beta1) (1.1.0)\n",
            "Requirement already satisfied: six>=1.10.0 in /usr/local/lib/python3.6/dist-packages (from tensorflow-gpu==2.0-beta1) (1.12.0)\n",
            "Requirement already satisfied: google-pasta>=0.1.6 in /usr/local/lib/python3.6/dist-packages (from tensorflow-gpu==2.0-beta1) (0.1.8)\n",
            "Requirement already satisfied: gast>=0.2.0 in /usr/local/lib/python3.6/dist-packages (from tensorflow-gpu==2.0-beta1) (0.2.2)\n",
            "Collecting tf-estimator-nightly<1.14.0.dev2019060502,>=1.14.0.dev2019060501\n",
            "\u001b[?25l  Downloading https://files.pythonhosted.org/packages/32/dd/99c47dd007dcf10d63fd895611b063732646f23059c618a373e85019eb0e/tf_estimator_nightly-1.14.0.dev2019060501-py2.py3-none-any.whl (496kB)\n",
            "\u001b[K     |████████████████████████████████| 501kB 49.5MB/s \n",
            "\u001b[?25hRequirement already satisfied: wheel>=0.26 in /usr/local/lib/python3.6/dist-packages (from tensorflow-gpu==2.0-beta1) (0.33.6)\n",
            "Requirement already satisfied: keras-preprocessing>=1.0.5 in /usr/local/lib/python3.6/dist-packages (from tensorflow-gpu==2.0-beta1) (1.1.0)\n",
            "Requirement already satisfied: grpcio>=1.8.6 in /usr/local/lib/python3.6/dist-packages (from tensorflow-gpu==2.0-beta1) (1.15.0)\n",
            "Collecting tb-nightly<1.14.0a20190604,>=1.14.0a20190603\n",
            "\u001b[?25l  Downloading https://files.pythonhosted.org/packages/a4/96/571b875cd81dda9d5dfa1422a4f9d749e67c0a8d4f4f0b33a4e5f5f35e27/tb_nightly-1.14.0a20190603-py3-none-any.whl (3.1MB)\n",
            "\u001b[K     |████████████████████████████████| 3.1MB 48.7MB/s \n",
            "\u001b[?25hRequirement already satisfied: absl-py>=0.7.0 in /usr/local/lib/python3.6/dist-packages (from tensorflow-gpu==2.0-beta1) (0.9.0)\n",
            "Requirement already satisfied: keras-applications>=1.0.6 in /usr/local/lib/python3.6/dist-packages (from tensorflow-gpu==2.0-beta1) (1.0.8)\n",
            "Requirement already satisfied: setuptools in /usr/local/lib/python3.6/dist-packages (from protobuf>=3.6.1->tensorflow-gpu==2.0-beta1) (42.0.2)\n",
            "Requirement already satisfied: werkzeug>=0.11.15 in /usr/local/lib/python3.6/dist-packages (from tb-nightly<1.14.0a20190604,>=1.14.0a20190603->tensorflow-gpu==2.0-beta1) (0.16.0)\n",
            "Requirement already satisfied: markdown>=2.6.8 in /usr/local/lib/python3.6/dist-packages (from tb-nightly<1.14.0a20190604,>=1.14.0a20190603->tensorflow-gpu==2.0-beta1) (3.1.1)\n",
            "Requirement already satisfied: h5py in /usr/local/lib/python3.6/dist-packages (from keras-applications>=1.0.6->tensorflow-gpu==2.0-beta1) (2.8.0)\n",
            "Installing collected packages: tf-estimator-nightly, tb-nightly, tensorflow-gpu\n",
            "  Found existing installation: tensorflow-gpu 2.0.0\n",
            "    Uninstalling tensorflow-gpu-2.0.0:\n",
            "      Successfully uninstalled tensorflow-gpu-2.0.0\n",
            "Successfully installed tb-nightly-1.14.0a20190603 tensorflow-gpu-2.0.0b1 tf-estimator-nightly-1.14.0.dev2019060501\n"
          ],
          "name": "stdout"
        },
        {
          "output_type": "display_data",
          "data": {
            "application/vnd.colab-display-data+json": {
              "pip_warning": {
                "packages": [
                  "tensorboard",
                  "tensorflow",
                  "tensorflow_estimator"
                ]
              }
            }
          },
          "metadata": {
            "tags": []
          }
        }
      ]
    },
    {
      "cell_type": "code",
      "metadata": {
        "id": "rZV7As46LQBF",
        "colab_type": "code",
        "colab": {}
      },
      "source": [
        "import tensorflow as tf\n",
        "import numpy as np"
      ],
      "execution_count": 0,
      "outputs": []
    },
    {
      "cell_type": "code",
      "metadata": {
        "id": "yqXsZtxjLWdJ",
        "colab_type": "code",
        "outputId": "cd2bf1a5-b07d-4671-e752-3eb032bf8c18",
        "colab": {
          "base_uri": "https://localhost:8080/",
          "height": 34
        }
      },
      "source": [
        "tf.__version__"
      ],
      "execution_count": 48,
      "outputs": [
        {
          "output_type": "execute_result",
          "data": {
            "text/plain": [
              "'2.0.0-beta1'"
            ]
          },
          "metadata": {
            "tags": []
          },
          "execution_count": 48
        }
      ]
    },
    {
      "cell_type": "code",
      "metadata": {
        "id": "Cx-ikmJLLZHk",
        "colab_type": "code",
        "colab": {}
      },
      "source": [
        "def Conv2D_Block(input_tensor , n_filters):\n",
        "  x = tf.keras.layers.Conv2D(filters = n_filters , kernel_size = (3 , 3) , kernel_initializer = 'he_normal' , padding = 'same')(input_tensor)\n",
        "  x = tf.keras.layers.BatchNormalization()(x)\n",
        "  x = tf.keras.layers.Activation('relu')(x)\n",
        "  \n",
        "  x = tf.keras.layers.Conv2D(filters = n_filters , kernel_size = (3 , 3) , kernel_initializer = 'he_normal' , padding = 'same')(x)\n",
        "  x = tf.keras.layers.BatchNormalization()(x)\n",
        "  x = tf.keras.layers.Activation('relu')(x)\n",
        "  \n",
        "  return x"
      ],
      "execution_count": 0,
      "outputs": []
    },
    {
      "cell_type": "code",
      "metadata": {
        "id": "hpq2lG9ELp_R",
        "colab_type": "code",
        "colab": {}
      },
      "source": [
        "def U_Net(img_tensor , n_filters = 16):\n",
        "  conv1 = Conv2D_Block(img_tensor , n_filters * 1)\n",
        "  pool1 = tf.keras.layers.MaxPooling2D((2 , 2))(conv1)\n",
        "  pool1 = tf.keras.layers.Dropout(0.05)(pool1)\n",
        "  \n",
        "  conv2 = Conv2D_Block(pool1 , n_filters * 2)\n",
        "  pool2 = tf.keras.layers.MaxPooling2D((2 , 2))(conv2)\n",
        "  pool2 = tf.keras.layers.Dropout(0.05)(pool2)\n",
        "  \n",
        "  conv3 = Conv2D_Block(pool2 , n_filters * 4)\n",
        "  pool3 = tf.keras.layers.MaxPooling2D((2 , 2))(conv3)\n",
        "  pool3 = tf.keras.layers.Dropout(0.05)(pool3)\n",
        "  \n",
        "  conv4 = Conv2D_Block(pool3 , n_filters * 8)\n",
        "  pool4 = tf.keras.layers.MaxPooling2D((2 , 2))(conv4)\n",
        "  pool4 = tf.keras.layers.Dropout(0.05)(pool4)\n",
        "  \n",
        "  conv5 = Conv2D_Block(pool4 , n_filters * 16)\n",
        "  \n",
        "  pool6 = tf.keras.layers.Conv2DTranspose(n_filters * 8 , (3 , 3) , (2, 2) , padding = 'same')(conv5)\n",
        "  pool6 = tf.keras.layers.concatenate([pool6 , conv4])\n",
        "  pool6 = tf.keras.layers.Dropout(0.05)(pool6)\n",
        "  conv6 = Conv2D_Block(pool6 , n_filters * 8)\n",
        "  \n",
        "  pool7 = tf.keras.layers.Conv2DTranspose(n_filters * 4 , (3 , 3) , (2 , 2) , padding = 'same')(conv6)\n",
        "  pool7 = tf.keras.layers.concatenate([pool7 , conv3])\n",
        "  pool7 = tf.keras.layers.Dropout(0.05)(pool7)\n",
        "  conv7 = Conv2D_Block(pool7 , n_filters * 4)\n",
        "  \n",
        "  pool8 = tf.keras.layers.Conv2DTranspose(n_filters * 2 , (3 , 3) , (2 , 2) , padding = 'same')(conv7)\n",
        "  pool8 = tf.keras.layers.concatenate([pool8 , conv2])\n",
        "  pool8 = tf.keras.layers.Dropout(0.05)(pool8)\n",
        "  conv8 = Conv2D_Block(pool8 , n_filters * 2)\n",
        "  \n",
        "  pool9 = tf.keras.layers.Conv2DTranspose(n_filters * 1 , (3 , 3) , (2 , 2) , padding = 'same')(conv8)\n",
        "  pool9 = tf.keras.layers.concatenate([pool9 , conv1])\n",
        "  pool9 = tf.keras.layers.Dropout(0.05)(pool9)\n",
        "  conv9 = Conv2D_Block(pool9 , n_filters * 1)\n",
        "  \n",
        "  output = tf.keras.layers.Conv2D(1 , (1 , 1) , activation = 'sigmoid')(conv9)\n",
        "  \n",
        "  u_net = tf.keras.Model(inputs = [img_tensor] , outputs = [output])\n",
        "  \n",
        "  return u_net"
      ],
      "execution_count": 0,
      "outputs": []
    },
    {
      "cell_type": "code",
      "metadata": {
        "id": "KzAW54kULqjl",
        "colab_type": "code",
        "colab": {}
      },
      "source": [
        "data_file1 = tf.keras.utils.get_file(fname='d1' , origin='https://mypages.valdosta.edu/rpmihail/skyfinder/images/10066.zip' , extract=True )\n",
        "mask1 = tf.keras.utils.get_file(fname='mask1.png'  , origin='https://mypages.valdosta.edu/rpmihail/skyfinder/Masks/10066.png')\n",
        "data_file2 = tf.keras.utils.get_file(fname='d1' , origin='https://mypages.valdosta.edu/rpmihail/skyfinder/images/10870.zip' , extract=True )\n",
        "mask2 = tf.keras.utils.get_file(fname='mask2.png'  , origin='https://mypages.valdosta.edu/rpmihail/skyfinder/Masks/10870.png')\n",
        "data_file3 = tf.keras.utils.get_file(fname='d1' , origin='https://mypages.valdosta.edu/rpmihail/skyfinder/images/10917.zip' , extract=True )\n",
        "mask3 = tf.keras.utils.get_file(fname='mask3.png'  , origin='https://mypages.valdosta.edu/rpmihail/skyfinder/Masks/10917.png')\n",
        "data_file4 = tf.keras.utils.get_file(fname='d1' , origin='https://mypages.valdosta.edu/rpmihail/skyfinder/images/1093.zip' , extract=True )\n",
        "mask4 = tf.keras.utils.get_file(fname='mask4.png'  , origin='https://mypages.valdosta.edu/rpmihail/skyfinder/Masks/1093.png')\n",
        "data_file5 = tf.keras.utils.get_file(fname='d1' , origin='https://mypages.valdosta.edu/rpmihail/skyfinder/images/11160.zip' , extract=True )\n",
        "mask5 = tf.keras.utils.get_file(fname='mask5.png'  , origin='https://mypages.valdosta.edu/rpmihail/skyfinder/Masks/11160.png')\n",
        "data_file6 = tf.keras.utils.get_file(fname='d1' , origin='https://mypages.valdosta.edu/rpmihail/skyfinder/images/11331.zip' , extract=True )\n",
        "mask6 = tf.keras.utils.get_file(fname='mask6.png'  , origin='https://mypages.valdosta.edu/rpmihail/skyfinder/Masks/11331.png')\n",
        "data_file7 = tf.keras.utils.get_file(fname='d1' , origin='https://mypages.valdosta.edu/rpmihail/skyfinder/images/162.zip' , extract=True )\n",
        "mask7 = tf.keras.utils.get_file(fname='mask7.png'  , origin='https://mypages.valdosta.edu/rpmihail/skyfinder/Masks/162.png')\n",
        "data_file8 = tf.keras.utils.get_file(fname='d1' , origin='https://mypages.valdosta.edu/rpmihail/skyfinder/images/17218.zip' , extract=True )\n",
        "mask8 = tf.keras.utils.get_file(fname='mask8.png'  , origin='https://mypages.valdosta.edu/rpmihail/skyfinder/Masks/17218.png')\n",
        "data_file9 = tf.keras.utils.get_file(fname='d1' , origin='https://mypages.valdosta.edu/rpmihail/skyfinder/images/17244.zip' , extract=True )\n",
        "mask9 = tf.keras.utils.get_file(fname='mask9.png'  , origin='https://mypages.valdosta.edu/rpmihail/skyfinder/Masks/17244.png')\n"
      ],
      "execution_count": 0,
      "outputs": []
    },
    {
      "cell_type": "code",
      "metadata": {
        "id": "5G2mAHl0L94F",
        "colab_type": "code",
        "outputId": "671b0448-d0e9-47d7-da61-13848479df1e",
        "colab": {
          "base_uri": "https://localhost:8080/",
          "height": 85
        }
      },
      "source": [
        "%ls /root/.keras/datasets/home/mihail/mypages/rpmihail/skyfinder/images\n"
      ],
      "execution_count": 0,
      "outputs": [
        {
          "output_type": "stream",
          "text": [
            "\u001b[0m\u001b[01;34m17218\u001b[0m/  \u001b[01;34m19388\u001b[0m/  \u001b[01;34m3395\u001b[0m/  \u001b[01;34m4181\u001b[0m/  \u001b[01;34m4795\u001b[0m/  \u001b[01;34m623\u001b[0m/   \u001b[01;34m7211\u001b[0m/  \u001b[01;34m8438\u001b[0m/  \u001b[01;34m8953\u001b[0m/  \u001b[01;34m9708\u001b[0m/\n",
            "\u001b[01;34m17244\u001b[0m/  \u001b[01;34m204\u001b[0m/    \u001b[01;34m3396\u001b[0m/  \u001b[01;34m4232\u001b[0m/  \u001b[01;34m4801\u001b[0m/  \u001b[01;34m65\u001b[0m/    \u001b[01;34m7233\u001b[0m/  \u001b[01;34m858\u001b[0m/   \u001b[01;34m9112\u001b[0m/  \u001b[01;34m9730\u001b[0m/\n",
            "\u001b[01;34m19106\u001b[0m/  \u001b[01;34m260\u001b[0m/    \u001b[01;34m3837\u001b[0m/  \u001b[01;34m4584\u001b[0m/  \u001b[01;34m5020\u001b[0m/  \u001b[01;34m6798\u001b[0m/  \u001b[01;34m7371\u001b[0m/  \u001b[01;34m861\u001b[0m/   \u001b[01;34m9291\u001b[0m/\n",
            "\u001b[01;34m19306\u001b[0m/  \u001b[01;34m3297\u001b[0m/   \u001b[01;34m3888\u001b[0m/  \u001b[01;34m4679\u001b[0m/  \u001b[01;34m5021\u001b[0m/  \u001b[01;34m684\u001b[0m/   \u001b[01;34m75\u001b[0m/    \u001b[01;34m8733\u001b[0m/  \u001b[01;34m9483\u001b[0m/\n"
          ],
          "name": "stdout"
        }
      ]
    },
    {
      "cell_type": "code",
      "metadata": {
        "id": "oVM024bczE53",
        "colab_type": "code",
        "outputId": "b762a929-dde9-458f-f881-b5f614687ba8",
        "colab": {
          "base_uri": "https://localhost:8080/",
          "height": 34
        }
      },
      "source": [
        "%ls /root/.keras/datasets/"
      ],
      "execution_count": 0,
      "outputs": [
        {
          "output_type": "stream",
          "text": [
            "\u001b[0m\u001b[01;34m10066\u001b[0m/  \u001b[01;34m10870\u001b[0m/  \u001b[01;34m10917\u001b[0m/  \u001b[01;34m1093\u001b[0m/  \u001b[01;34m11160\u001b[0m/  \u001b[01;34m11331\u001b[0m/  \u001b[01;34m162\u001b[0m/  \u001b[01;34m18590\u001b[0m/  \u001b[01;34m19834\u001b[0m/  \u001b[01;34mhome\u001b[0m/\n"
          ],
          "name": "stdout"
        }
      ]
    },
    {
      "cell_type": "code",
      "metadata": {
        "id": "0z2w8bQ8MBPd",
        "colab_type": "code",
        "colab": {}
      },
      "source": [
        "%rm -r /root/.keras/datasets/*.zip"
      ],
      "execution_count": 0,
      "outputs": []
    },
    {
      "cell_type": "code",
      "metadata": {
        "id": "O8tlZF6AZXQO",
        "colab_type": "code",
        "colab": {}
      },
      "source": [
        "data_paths = []"
      ],
      "execution_count": 0,
      "outputs": []
    },
    {
      "cell_type": "code",
      "metadata": {
        "id": "ZsTa4cryZgBB",
        "colab_type": "code",
        "colab": {}
      },
      "source": [
        "br.close()"
      ],
      "execution_count": 0,
      "outputs": []
    },
    {
      "cell_type": "code",
      "metadata": {
        "id": "Z_zuboa1UE_j",
        "colab_type": "code",
        "colab": {}
      },
      "source": [
        "%pip install mechanize"
      ],
      "execution_count": 0,
      "outputs": []
    },
    {
      "cell_type": "code",
      "metadata": {
        "id": "9Z6S15BsNGI1",
        "colab_type": "code",
        "outputId": "cee16ce3-843b-4b85-967b-e09e8a44ad04",
        "colab": {
          "base_uri": "https://localhost:8080/",
          "height": 54
        }
      },
      "source": [
        "import mechanize\n",
        "br = mechanize.Browser()\n",
        "br.open('https://mypages.valdosta.edu/rpmihail/skyfinder/images/')"
      ],
      "execution_count": 0,
      "outputs": [
        {
          "output_type": "execute_result",
          "data": {
            "text/plain": [
              "<response_seek_wrapper at 0x7f8c4281b4e0 whose wrapped object = <closeable_response at 0x7f8c4281b470 whose fp = <_io.BufferedReader>>>"
            ]
          },
          "metadata": {
            "tags": []
          },
          "execution_count": 11
        }
      ]
    },
    {
      "cell_type": "code",
      "metadata": {
        "id": "g83YZo0TZSna",
        "colab_type": "code",
        "outputId": "92b7f78d-14de-4209-a0a3-38587ddcee03",
        "colab": {
          "base_uri": "https://localhost:8080/",
          "height": 1000
        }
      },
      "source": [
        "for link in br.links():\n",
        "  if link.absolute_url[-4:] == '.zip':\n",
        "    data_paths.append(tf.keras.utils.get_file(fname=link.url[2:] , origin=link.absolute_url, extract=True ))\n",
        "    # print(link.url[2:])"
      ],
      "execution_count": 0,
      "outputs": [
        {
          "output_type": "stream",
          "text": [
            "Downloading data from https://mypages.valdosta.edu/rpmihail/skyfinder/images/10066.zip\n",
            "69435392/69432926 [==============================] - 4s 0us/step\n",
            "Downloading data from https://mypages.valdosta.edu/rpmihail/skyfinder/images/10870.zip\n",
            "70615040/70608581 [==============================] - 4s 0us/step\n",
            "Downloading data from https://mypages.valdosta.edu/rpmihail/skyfinder/images/10917.zip\n",
            "548544512/548542322 [==============================] - 20s 0us/step\n",
            "Downloading data from https://mypages.valdosta.edu/rpmihail/skyfinder/images/1093.zip\n",
            "31318016/31312281 [==============================] - 1s 0us/step\n",
            "Downloading data from https://mypages.valdosta.edu/rpmihail/skyfinder/images/11160.zip\n",
            "225689600/225684627 [==============================] - 11s 0us/step\n",
            "Downloading data from https://mypages.valdosta.edu/rpmihail/skyfinder/images/11331.zip\n",
            "84901888/84893855 [==============================] - 4s 0us/step\n",
            "Downloading data from https://mypages.valdosta.edu/rpmihail/skyfinder/images/162.zip\n",
            "393715712/393710265 [==============================] - 18s 0us/step\n",
            "Downloading data from https://mypages.valdosta.edu/rpmihail/skyfinder/images/17218.zip\n",
            "49250304/49246713 [==============================] - 2s 0us/step\n",
            "Downloading data from https://mypages.valdosta.edu/rpmihail/skyfinder/images/17244.zip\n",
            "323403776/323402807 [==============================] - 13s 0us/step\n",
            "Downloading data from https://mypages.valdosta.edu/rpmihail/skyfinder/images/18590.zip\n",
            "473219072/473215406 [==============================] - 23s 0us/step\n",
            "Downloading data from https://mypages.valdosta.edu/rpmihail/skyfinder/images/19106.zip\n",
            "41156608/41155196 [==============================] - 2s 0us/step\n",
            "Downloading data from https://mypages.valdosta.edu/rpmihail/skyfinder/images/19306.zip\n",
            "476692480/476685212 [==============================] - 21s 0us/step\n",
            "Downloading data from https://mypages.valdosta.edu/rpmihail/skyfinder/images/19388.zip\n",
            "286793728/286791087 [==============================] - 12s 0us/step\n",
            "Downloading data from https://mypages.valdosta.edu/rpmihail/skyfinder/images/19834.zip\n",
            "54001664/53996748 [==============================] - 5s 0us/step\n",
            "Downloading data from https://mypages.valdosta.edu/rpmihail/skyfinder/images/204.zip\n",
            "67043328/67035981 [==============================] - 3s 0us/step\n",
            "Downloading data from https://mypages.valdosta.edu/rpmihail/skyfinder/images/260.zip\n",
            "424247296/424241268 [==============================] - 13s 0us/step\n",
            "Downloading data from https://mypages.valdosta.edu/rpmihail/skyfinder/images/3297.zip\n",
            "32612352/32606444 [==============================] - 1s 0us/step\n",
            "Downloading data from https://mypages.valdosta.edu/rpmihail/skyfinder/images/3395.zip\n",
            "155303936/155301267 [==============================] - 6s 0us/step\n",
            "Downloading data from https://mypages.valdosta.edu/rpmihail/skyfinder/images/3396.zip\n",
            "542302208/542296743 [==============================] - 21s 0us/step\n",
            "Downloading data from https://mypages.valdosta.edu/rpmihail/skyfinder/images/3837.zip\n",
            "211116032/211111460 [==============================] - 9s 0us/step\n",
            "Downloading data from https://mypages.valdosta.edu/rpmihail/skyfinder/images/3888.zip\n",
            "17096704/17093021 [==============================] - 1s 0us/step\n",
            "Downloading data from https://mypages.valdosta.edu/rpmihail/skyfinder/images/4181.zip\n",
            "58793984/58786664 [==============================] - 2s 0us/step\n",
            "Downloading data from https://mypages.valdosta.edu/rpmihail/skyfinder/images/4232.zip\n",
            "35004416/34997097 [==============================] - 2s 0us/step\n",
            "Downloading data from https://mypages.valdosta.edu/rpmihail/skyfinder/images/4584.zip\n",
            "168640512/168633916 [==============================] - 15s 0us/step\n",
            "Downloading data from https://mypages.valdosta.edu/rpmihail/skyfinder/images/4679.zip\n",
            "55492608/55491569 [==============================] - 2s 0us/step\n",
            "Downloading data from https://mypages.valdosta.edu/rpmihail/skyfinder/images/4795.zip\n",
            "18743296/18742667 [==============================] - 1s 0us/step\n",
            "Downloading data from https://mypages.valdosta.edu/rpmihail/skyfinder/images/4801.zip\n",
            "40673280/40670992 [==============================] - 2s 0us/step\n",
            "Downloading data from https://mypages.valdosta.edu/rpmihail/skyfinder/images/5020.zip\n",
            "179077120/179071530 [==============================] - 10s 0us/step\n",
            "Downloading data from https://mypages.valdosta.edu/rpmihail/skyfinder/images/5021.zip\n",
            "28909568/28901470 [==============================] - 2s 0us/step\n",
            "Downloading data from https://mypages.valdosta.edu/rpmihail/skyfinder/images/623.zip\n",
            "538411008/538403533 [==============================] - 26s 0us/step\n",
            "Downloading data from https://mypages.valdosta.edu/rpmihail/skyfinder/images/65.zip\n",
            "573333504/573325873 [==============================] - 24s 0us/step\n",
            "Downloading data from https://mypages.valdosta.edu/rpmihail/skyfinder/images/6798.zip\n",
            "60702720/60699508 [==============================] - 2s 0us/step\n",
            "Downloading data from https://mypages.valdosta.edu/rpmihail/skyfinder/images/684.zip\n",
            "490684416/490677822 [==============================] - 18s 0us/step\n",
            "Downloading data from https://mypages.valdosta.edu/rpmihail/skyfinder/images/7211.zip\n",
            "80502784/80495642 [==============================] - 4s 0us/step\n",
            "Downloading data from https://mypages.valdosta.edu/rpmihail/skyfinder/images/7233.zip\n",
            "118448128/118444580 [==============================] - 7s 0us/step\n",
            "Downloading data from https://mypages.valdosta.edu/rpmihail/skyfinder/images/7371.zip\n",
            "260096000/260088535 [==============================] - 10s 0us/step\n",
            "Downloading data from https://mypages.valdosta.edu/rpmihail/skyfinder/images/75.zip\n",
            "581763072/581762092 [==============================] - 21s 0us/step\n",
            "Downloading data from https://mypages.valdosta.edu/rpmihail/skyfinder/images/8438.zip\n",
            "43941888/43939680 [==============================] - 2s 0us/step\n",
            "Downloading data from https://mypages.valdosta.edu/rpmihail/skyfinder/images/858.zip\n",
            "7946240/7941695 [==============================] - 0s 0us/step\n",
            "Downloading data from https://mypages.valdosta.edu/rpmihail/skyfinder/images/861.zip\n",
            "133038080/133037592 [==============================] - 5s 0us/step\n",
            "Downloading data from https://mypages.valdosta.edu/rpmihail/skyfinder/images/8733.zip\n",
            "99762176/99758520 [==============================] - 3s 0us/step\n",
            "Downloading data from https://mypages.valdosta.edu/rpmihail/skyfinder/images/8953.zip\n",
            "145203200/145195969 [==============================] - 7s 0us/step\n",
            "Downloading data from https://mypages.valdosta.edu/rpmihail/skyfinder/images/9112.zip\n",
            "53649408/53644649 [==============================] - 2s 0us/step\n",
            "Downloading data from https://mypages.valdosta.edu/rpmihail/skyfinder/images/9291.zip\n",
            "128245760/128244237 [==============================] - 6s 0us/step\n",
            "Downloading data from https://mypages.valdosta.edu/rpmihail/skyfinder/images/9483.zip\n",
            "196444160/196437201 [==============================] - 11s 0us/step\n",
            "Downloading data from https://mypages.valdosta.edu/rpmihail/skyfinder/images/9708.zip\n",
            "348782592/348779179 [==============================] - 14s 0us/step\n",
            "Downloading data from https://mypages.valdosta.edu/rpmihail/skyfinder/images/9730.zip\n",
            "51200000/51196925 [==============================] - 2s 0us/step\n"
          ],
          "name": "stdout"
        }
      ]
    },
    {
      "cell_type": "code",
      "metadata": {
        "id": "o5UMJMNJTo9_",
        "colab_type": "code",
        "outputId": "2425b506-dbf1-486f-9e79-53321c3982d8",
        "colab": {
          "base_uri": "https://localhost:8080/",
          "height": 34
        }
      },
      "source": [
        "data_paths"
      ],
      "execution_count": 0,
      "outputs": [
        {
          "output_type": "execute_result",
          "data": {
            "text/plain": [
              "[]"
            ]
          },
          "metadata": {
            "tags": []
          },
          "execution_count": 26
        }
      ]
    },
    {
      "cell_type": "code",
      "metadata": {
        "id": "FbXEDQLBXK6d",
        "colab_type": "code",
        "colab": {}
      },
      "source": [
        "masks = []"
      ],
      "execution_count": 0,
      "outputs": []
    },
    {
      "cell_type": "code",
      "metadata": {
        "id": "8WAU1pFXU8o6",
        "colab_type": "code",
        "colab": {}
      },
      "source": [
        "for link in br.links():\n",
        "  if link.absolute_url[-4:] == '.png':\n",
        "    masks.append(tf.keras.utils.get_file(fname=link.url[8:] , origin=link.absolute_url))"
      ],
      "execution_count": 0,
      "outputs": []
    },
    {
      "cell_type": "code",
      "metadata": {
        "id": "Jr8CH-0WVXja",
        "colab_type": "code",
        "colab": {}
      },
      "source": [
        "br.close()"
      ],
      "execution_count": 0,
      "outputs": []
    },
    {
      "cell_type": "code",
      "metadata": {
        "id": "fZyihCllyloc",
        "colab_type": "code",
        "colab": {}
      },
      "source": [
        "masks"
      ],
      "execution_count": 0,
      "outputs": []
    },
    {
      "cell_type": "code",
      "metadata": {
        "id": "lZAHfqeqymQv",
        "colab_type": "code",
        "colab": {}
      },
      "source": [
        "import os"
      ],
      "execution_count": 0,
      "outputs": []
    },
    {
      "cell_type": "code",
      "metadata": {
        "id": "Q43KWJg-1nlC",
        "colab_type": "code",
        "colab": {}
      },
      "source": [
        "images_path = '/root/.keras/datasets/home/mihail/mypages/rpmihail/skyfinder/images'"
      ],
      "execution_count": 0,
      "outputs": []
    },
    {
      "cell_type": "code",
      "metadata": {
        "id": "Q2EOuNpf0zaA",
        "colab_type": "code",
        "colab": {}
      },
      "source": [
        "data_files = os.listdir(images_path)"
      ],
      "execution_count": 0,
      "outputs": []
    },
    {
      "cell_type": "code",
      "metadata": {
        "id": "2x5PAEsU1CJJ",
        "colab_type": "code",
        "outputId": "8588744c-5a58-4951-c7fb-e3c61650b514",
        "colab": {
          "base_uri": "https://localhost:8080/",
          "height": 663
        }
      },
      "source": [
        "data_files"
      ],
      "execution_count": 54,
      "outputs": [
        {
          "output_type": "execute_result",
          "data": {
            "text/plain": [
              "['4795',\n",
              " '3888',\n",
              " '9730',\n",
              " '9483',\n",
              " '3395',\n",
              " '5020',\n",
              " '75',\n",
              " '17244',\n",
              " '7371',\n",
              " '7211',\n",
              " '623',\n",
              " '9708',\n",
              " '8438',\n",
              " '3837',\n",
              " '17218',\n",
              " '6798',\n",
              " '4232',\n",
              " '3297',\n",
              " '260',\n",
              " '8953',\n",
              " '861',\n",
              " '4584',\n",
              " '65',\n",
              " '4801',\n",
              " '4181',\n",
              " '7233',\n",
              " '19306',\n",
              " '9291',\n",
              " '858',\n",
              " '9112',\n",
              " '204',\n",
              " '5021',\n",
              " '3396',\n",
              " '19388',\n",
              " '4679',\n",
              " '19106',\n",
              " '8733',\n",
              " '684']"
            ]
          },
          "metadata": {
            "tags": []
          },
          "execution_count": 54
        }
      ]
    },
    {
      "cell_type": "code",
      "metadata": {
        "id": "eRg4Z1PJ1Gng",
        "colab_type": "code",
        "colab": {}
      },
      "source": [
        "images = []"
      ],
      "execution_count": 0,
      "outputs": []
    },
    {
      "cell_type": "code",
      "metadata": {
        "id": "YET7FU7h1Z_e",
        "colab_type": "code",
        "outputId": "21a56860-3453-425e-9b18-c267ac2eaa85",
        "colab": {
          "base_uri": "https://localhost:8080/",
          "height": 663
        }
      },
      "source": [
        "for file in data_files:\n",
        "  print(file)\n",
        "  for image in os.listdir(os.path.join(images_path , file)):\n",
        "    images.append(os.path.join(os.path.join(images_path , file) , image))"
      ],
      "execution_count": 56,
      "outputs": [
        {
          "output_type": "stream",
          "text": [
            "4795\n",
            "3888\n",
            "9730\n",
            "9483\n",
            "3395\n",
            "5020\n",
            "75\n",
            "17244\n",
            "7371\n",
            "7211\n",
            "623\n",
            "9708\n",
            "8438\n",
            "3837\n",
            "17218\n",
            "6798\n",
            "4232\n",
            "3297\n",
            "260\n",
            "8953\n",
            "861\n",
            "4584\n",
            "65\n",
            "4801\n",
            "4181\n",
            "7233\n",
            "19306\n",
            "9291\n",
            "858\n",
            "9112\n",
            "204\n",
            "5021\n",
            "3396\n",
            "19388\n",
            "4679\n",
            "19106\n",
            "8733\n",
            "684\n"
          ],
          "name": "stdout"
        }
      ]
    },
    {
      "cell_type": "code",
      "metadata": {
        "id": "raMXHPnR4izQ",
        "colab_type": "code",
        "colab": {}
      },
      "source": [
        "add_file_path = '/root/.keras/datasets'"
      ],
      "execution_count": 0,
      "outputs": []
    },
    {
      "cell_type": "code",
      "metadata": {
        "id": "zujKKltA3muD",
        "colab_type": "code",
        "colab": {}
      },
      "source": [
        "add_data_files = os.listdir(add_file_path)[:-1]"
      ],
      "execution_count": 0,
      "outputs": []
    },
    {
      "cell_type": "code",
      "metadata": {
        "id": "fk-oAV0uDeSR",
        "colab_type": "code",
        "outputId": "a54efd17-04bb-4e5a-c75c-7a2697caa744",
        "colab": {
          "base_uri": "https://localhost:8080/",
          "height": 34
        }
      },
      "source": [
        "add_data_files"
      ],
      "execution_count": 59,
      "outputs": [
        {
          "output_type": "execute_result",
          "data": {
            "text/plain": [
              "['19834', '1093', '10870', '11160', '162', '10917', '11331', '18590', '10066']"
            ]
          },
          "metadata": {
            "tags": []
          },
          "execution_count": 59
        }
      ]
    },
    {
      "cell_type": "code",
      "metadata": {
        "id": "3M-7w4w64Y0o",
        "colab_type": "code",
        "colab": {}
      },
      "source": [
        "for folder in add_data_files:\n",
        "  for image in os.listdir(os.path.join(add_file_path , folder)):\n",
        "    images.append(os.path.join(os.path.join(add_file_path , folder) , image))"
      ],
      "execution_count": 0,
      "outputs": []
    },
    {
      "cell_type": "code",
      "metadata": {
        "id": "BzxZ3HtA2E1x",
        "colab_type": "code",
        "outputId": "5dafb19c-6c28-491d-d8b5-336d75cfb212",
        "colab": {
          "base_uri": "https://localhost:8080/",
          "height": 34
        }
      },
      "source": [
        "len(images)"
      ],
      "execution_count": 61,
      "outputs": [
        {
          "output_type": "execute_result",
          "data": {
            "text/plain": [
              "85562"
            ]
          },
          "metadata": {
            "tags": []
          },
          "execution_count": 61
        }
      ]
    },
    {
      "cell_type": "code",
      "metadata": {
        "id": "sJ6Wp7382GK3",
        "colab_type": "code",
        "outputId": "41e6bf98-588d-4b4f-d8f4-22cd4514dffd",
        "colab": {
          "base_uri": "https://localhost:8080/",
          "height": 34
        }
      },
      "source": [
        "import mechanize\n",
        "br = mechanize.Browser()\n",
        "br.open('https://mypages.valdosta.edu/rpmihail/skyfinder/images/')"
      ],
      "execution_count": 62,
      "outputs": [
        {
          "output_type": "execute_result",
          "data": {
            "text/plain": [
              "<response_seek_wrapper at 0x7f00eb4c0780 whose wrapped object = <closeable_response at 0x7f00eb4d81d0 whose fp = <_io.BufferedReader>>>"
            ]
          },
          "metadata": {
            "tags": []
          },
          "execution_count": 62
        }
      ]
    },
    {
      "cell_type": "code",
      "metadata": {
        "id": "8wgi1dUg3Ej9",
        "colab_type": "code",
        "colab": {}
      },
      "source": [
        "i = 0\n",
        "for link in br.links():\n",
        "  if link.absolute_url[-4:] == '.zip':\n",
        "    print(i + 1)\n",
        "    i = i + 1"
      ],
      "execution_count": 0,
      "outputs": []
    },
    {
      "cell_type": "code",
      "metadata": {
        "id": "QM1d1umx6lgQ",
        "colab_type": "code",
        "colab": {}
      },
      "source": [
        "import numpy as np\n",
        "from skimage.transform import resize"
      ],
      "execution_count": 0,
      "outputs": []
    },
    {
      "cell_type": "code",
      "metadata": {
        "id": "-MGmkhmy7N3y",
        "colab_type": "code",
        "colab": {}
      },
      "source": [
        "X=0"
      ],
      "execution_count": 0,
      "outputs": []
    },
    {
      "cell_type": "code",
      "metadata": {
        "id": "z6uXPBWR3ILB",
        "colab_type": "code",
        "colab": {}
      },
      "source": [
        "X = np.zeros((len(images), 128, 128, 3), dtype=np.float32)"
      ],
      "execution_count": 0,
      "outputs": []
    },
    {
      "cell_type": "code",
      "metadata": {
        "id": "pEYKlDSt6_ja",
        "colab_type": "code",
        "outputId": "79f30205-226d-44e1-a1b0-122438db2a28",
        "colab": {
          "base_uri": "https://localhost:8080/",
          "height": 34
        }
      },
      "source": [
        "for n , img_name in enumerate(images):\n",
        "  print(img_name)\n",
        "  break"
      ],
      "execution_count": 0,
      "outputs": [
        {
          "output_type": "stream",
          "text": [
            "/root/.keras/datasets/home/mihail/mypages/rpmihail/skyfinder/images/4795/20121122_113424.jpg\n"
          ],
          "name": "stdout"
        }
      ]
    },
    {
      "cell_type": "code",
      "metadata": {
        "id": "1PyODP416j4u",
        "colab_type": "code",
        "colab": {}
      },
      "source": [
        "for n , img_name in enumerate(images):\n",
        "  print(n%100)\n",
        "  img = tf.keras.preprocessing.image.load_img(img_name , grayscale=False)\n",
        "  in_img = tf.keras.preprocessing.image.img_to_array(img , dtype=np.float32)\n",
        "  in_img = resize(in_img , (128 , 128 , 3) , mode = 'constant' , preserve_range = True)\n",
        "  X[n] = in_img / 255.0"
      ],
      "execution_count": 0,
      "outputs": []
    },
    {
      "cell_type": "code",
      "metadata": {
        "id": "VVkVMAqI_TIf",
        "colab_type": "code",
        "outputId": "bb9377d0-ee63-4bc8-c744-8e2bbf9a33ad",
        "colab": {
          "base_uri": "https://localhost:8080/",
          "height": 34
        }
      },
      "source": [
        "X.shape"
      ],
      "execution_count": 0,
      "outputs": [
        {
          "output_type": "execute_result",
          "data": {
            "text/plain": [
              "(85562, 128, 128, 3)"
            ]
          },
          "metadata": {
            "tags": []
          },
          "execution_count": 19
        }
      ]
    },
    {
      "cell_type": "code",
      "metadata": {
        "id": "IGXMmZRQAIIB",
        "colab_type": "code",
        "colab": {}
      },
      "source": [
        "import matplotlib.pyplot as plt\n"
      ],
      "execution_count": 0,
      "outputs": []
    },
    {
      "cell_type": "code",
      "metadata": {
        "id": "1h5bmzgpCW6R",
        "colab_type": "code",
        "outputId": "b44900ed-cbb8-40b8-9980-f6317e7c4cd2",
        "colab": {
          "base_uri": "https://localhost:8080/",
          "height": 285
        }
      },
      "source": [
        "plt.imshow(X[0])"
      ],
      "execution_count": 0,
      "outputs": [
        {
          "output_type": "execute_result",
          "data": {
            "text/plain": [
              "<matplotlib.image.AxesImage at 0x7f8c4bc8e6a0>"
            ]
          },
          "metadata": {
            "tags": []
          },
          "execution_count": 21
        },
        {
          "output_type": "display_data",
          "data": {
            "image/png": "[encoded data removed]",
            "text/plain": [
              "<Figure size 432x288 with 1 Axes>"
            ]
          },
          "metadata": {
            "tags": []
          }
        }
      ]
    },
    {
      "cell_type": "code",
      "metadata": {
        "id": "LP_7O_MxC5Lx",
        "colab_type": "code",
        "outputId": "e2e7331e-7b3a-4eee-e1f6-7e387cef7981",
        "colab": {
          "base_uri": "https://localhost:8080/",
          "height": 34
        }
      },
      "source": [
        "images[600]"
      ],
      "execution_count": 0,
      "outputs": [
        {
          "output_type": "execute_result",
          "data": {
            "text/plain": [
              "'/root/.keras/datasets/home/mihail/mypages/rpmihail/skyfinder/images/4795/20130210_203423.jpg'"
            ]
          },
          "metadata": {
            "tags": []
          },
          "execution_count": 32
        }
      ]
    },
    {
      "cell_type": "code",
      "metadata": {
        "id": "VbXlxZEYCZXZ",
        "colab_type": "code",
        "colab": {}
      },
      "source": [
        "%mv /root/.keras/datasets/home/mihail/mypages/rpmihail/skyfinder/images/4795/20121122_113424.jpg ."
      ],
      "execution_count": 0,
      "outputs": []
    },
    {
      "cell_type": "code",
      "metadata": {
        "id": "eB5JYpFACpYh",
        "colab_type": "code",
        "colab": {}
      },
      "source": [
        "np.save('train_images.npy' , X)"
      ],
      "execution_count": 0,
      "outputs": []
    },
    {
      "cell_type": "code",
      "metadata": {
        "id": "Tyxxf1MsFqUE",
        "colab_type": "code",
        "colab": {}
      },
      "source": [
        "def load_image(image_path , mask_path):\n",
        "  img = tf.keras.preprocessing.image.load_img(image_path , target_size=(128 , 128))\n",
        "  img = tf.keras.preprocessing.image.img_to_array(img , dtype='float32')\n",
        "  img = img / 255.0\n",
        "\n",
        "  img1 = tf.keras.preprocessing.image.load_img(mask_path , grayscale=True , target_size=(128 , 128))\n",
        "  img1 = tf.keras.preprocessing.image.img_to_array(img1 , dtype='float32')\n",
        "  img1 = img1 / 255.0\n",
        "  return img , img1"
      ],
      "execution_count": 0,
      "outputs": []
    },
    {
      "cell_type": "code",
      "metadata": {
        "id": "3tISesyzIpgN",
        "colab_type": "code",
        "outputId": "5cb8e4d7-30b9-443a-c1e8-22696c575934",
        "colab": {
          "base_uri": "https://localhost:8080/",
          "height": 51
        }
      },
      "source": [
        "i , j = load_image(images[10000] , mask_map[10000])"
      ],
      "execution_count": 64,
      "outputs": [
        {
          "output_type": "stream",
          "text": [
            "/usr/local/lib/python3.6/dist-packages/keras_preprocessing/image/utils.py:104: UserWarning: grayscale is deprecated. Please use color_mode = \"grayscale\"\n",
            "  warnings.warn('grayscale is deprecated. Please use '\n"
          ],
          "name": "stderr"
        }
      ]
    },
    {
      "cell_type": "code",
      "metadata": {
        "id": "jHvTgaS8afxk",
        "colab_type": "code",
        "outputId": "eb889d7a-adba-416d-9844-d231d718782e",
        "colab": {
          "base_uri": "https://localhost:8080/",
          "height": 34
        }
      },
      "source": [
        "j.shape"
      ],
      "execution_count": 65,
      "outputs": [
        {
          "output_type": "execute_result",
          "data": {
            "text/plain": [
              "(128, 128, 1)"
            ]
          },
          "metadata": {
            "tags": []
          },
          "execution_count": 65
        }
      ]
    },
    {
      "cell_type": "code",
      "metadata": {
        "id": "ElSd3y4ZIyKh",
        "colab_type": "code",
        "colab": {}
      },
      "source": [
        "j = np.ma.masked_where(j == 0, j)"
      ],
      "execution_count": 0,
      "outputs": []
    },
    {
      "cell_type": "code",
      "metadata": {
        "id": "Xn3X8bHRI2rR",
        "colab_type": "code",
        "colab": {}
      },
      "source": [
        "image_dataset = tf.data.Dataset.from_tensor_slices(images)\n",
        "image_dataset = image_dataset.map(\n",
        "  load_image , num_parallel_calls = tf.data.experimental.AUTOTUNE).batch(16)"
      ],
      "execution_count": 0,
      "outputs": []
    },
    {
      "cell_type": "code",
      "metadata": {
        "id": "Ez8Br9G2JSx3",
        "colab_type": "code",
        "outputId": "ee75c4c8-ee5d-4b33-9995-1569663a7359",
        "colab": {
          "base_uri": "https://localhost:8080/",
          "height": 285
        }
      },
      "source": [
        "plt.imshow(i , cmap = 'gray' , interpolation='none')\n",
        "plt.imshow(tf.squeeze(j) , cmap = 'jet', interpolation = 'none', alpha = 0.5)"
      ],
      "execution_count": 0,
      "outputs": [
        {
          "output_type": "execute_result",
          "data": {
            "text/plain": [
              "<matplotlib.image.AxesImage at 0x7f00ea930e10>"
            ]
          },
          "metadata": {
            "tags": []
          },
          "execution_count": 27
        },
        {
          "output_type": "display_data",
          "data": {
            "image/png": "[encoded data removed]",
            "text/plain": [
              "<Figure size 432x288 with 1 Axes>"
            ]
          },
          "metadata": {
            "tags": []
          }
        }
      ]
    },
    {
      "cell_type": "code",
      "metadata": {
        "id": "QR1cPPaKNJk7",
        "colab_type": "code",
        "outputId": "fa39bbfe-5625-43e8-dffb-fb962e174003",
        "colab": {
          "base_uri": "https://localhost:8080/",
          "height": 34
        }
      },
      "source": [
        "len(data_files)\n",
        "len(add_data_files)"
      ],
      "execution_count": 0,
      "outputs": [
        {
          "output_type": "execute_result",
          "data": {
            "text/plain": [
              "9"
            ]
          },
          "metadata": {
            "tags": []
          },
          "execution_count": 64
        }
      ]
    },
    {
      "cell_type": "code",
      "metadata": {
        "id": "xIlHWd8GTkDf",
        "colab_type": "code",
        "colab": {}
      },
      "source": [
        "masks = []"
      ],
      "execution_count": 0,
      "outputs": []
    },
    {
      "cell_type": "code",
      "metadata": {
        "id": "48D8gOl3U8DM",
        "colab_type": "code",
        "colab": {}
      },
      "source": [
        "for file in os.listdir('/content/'):\n",
        "  if file.endswith('.png'):\n",
        "    masks.append(os.path.join('/content/' , file))"
      ],
      "execution_count": 0,
      "outputs": []
    },
    {
      "cell_type": "code",
      "metadata": {
        "id": "AGVRd-3IVWhB",
        "colab_type": "code",
        "outputId": "1a6a70f6-9487-4e6f-b053-6b8112f439c9",
        "colab": {
          "base_uri": "https://localhost:8080/",
          "height": 34
        }
      },
      "source": [
        "images[0].split('/')[-2]+'.png'"
      ],
      "execution_count": 0,
      "outputs": [
        {
          "output_type": "execute_result",
          "data": {
            "text/plain": [
              "'4795.png'"
            ]
          },
          "metadata": {
            "tags": []
          },
          "execution_count": 84
        }
      ]
    },
    {
      "cell_type": "code",
      "metadata": {
        "id": "vWP6VPXlVrCg",
        "colab_type": "code",
        "colab": {}
      },
      "source": [
        "mask_map = []"
      ],
      "execution_count": 0,
      "outputs": []
    },
    {
      "cell_type": "code",
      "metadata": {
        "id": "7qGw5gXuWRAo",
        "colab_type": "code",
        "colab": {}
      },
      "source": [
        "for image in images:\n",
        "  mask_map.append(os.path.join('/content/' , image.split('/')[-2] + '.png'))"
      ],
      "execution_count": 0,
      "outputs": []
    },
    {
      "cell_type": "code",
      "metadata": {
        "id": "MJd2nyk4WxOw",
        "colab_type": "code",
        "outputId": "428355fc-d0b4-4911-8af5-973aacedad0d",
        "colab": {
          "base_uri": "https://localhost:8080/",
          "height": 34
        }
      },
      "source": [
        "len(mask_map)"
      ],
      "execution_count": 68,
      "outputs": [
        {
          "output_type": "execute_result",
          "data": {
            "text/plain": [
              "85562"
            ]
          },
          "metadata": {
            "tags": []
          },
          "execution_count": 68
        }
      ]
    },
    {
      "cell_type": "code",
      "metadata": {
        "id": "MvhgK_RGWykr",
        "colab_type": "code",
        "colab": {}
      },
      "source": [
        "dataset = tf.data.Dataset.from_tensor_slices((images , mask_map))\n",
        "\n",
        "dataset = dataset.map(lambda image , mask: tf.numpy_function(\n",
        "    load_image , [image , mask] , [tf.float32 , tf.float32]\n",
        "), num_parallel_calls = tf.data.experimental.AUTOTUNE)\n",
        "\n",
        "dataset = dataset.shuffle(1000).batch(64)\n",
        "dataset = dataset.prefetch(buffer_size = tf.data.experimental.AUTOTUNE)"
      ],
      "execution_count": 0,
      "outputs": []
    },
    {
      "cell_type": "code",
      "metadata": {
        "id": "4GSqJw_1cunW",
        "colab_type": "code",
        "colab": {}
      },
      "source": [
        "from PIL import ImageFile\n",
        "ImageFile.LOAD_TRUNCATED_IMAGES = True"
      ],
      "execution_count": 0,
      "outputs": []
    },
    {
      "cell_type": "code",
      "metadata": {
        "id": "O5XO1qGWYZdI",
        "colab_type": "code",
        "outputId": "330406af-a375-4dc9-95d3-1e48a5dfc695",
        "colab": {
          "base_uri": "https://localhost:8080/",
          "height": 697
        }
      },
      "source": [
        "# for batch , (ig , ms) in enumerate(dataset):\n",
        "#   print(batch)\n",
        "#   ms[0] = np.ma.masked_where(ms[0] == 0, ms[0])\n",
        "#   plt.imshow(ig[0])\n",
        "#   plt.imshow(ms[0] , cmap='jet' , alpha=0.7)\n",
        "#   break\n",
        "\n",
        "for ig , ms in dataset:\n",
        "  print(ig.shape)\n",
        "  l = np.ma.masked_where(ms[0] == 0, ms[0])\n",
        "  plt.imshow(ig[0])\n",
        "  plt.imshow(tf.squeeze(l) , cmap='jet' , alpha=0.7)\n",
        "  break"
      ],
      "execution_count": 0,
      "outputs": [
        {
          "output_type": "stream",
          "text": [
            "/usr/local/lib/python3.6/dist-packages/keras_preprocessing/image/utils.py:104: UserWarning: grayscale is deprecated. Please use color_mode = \"grayscale\"\n",
            "  warnings.warn('grayscale is deprecated. Please use '\n"
          ],
          "name": "stderr"
        },
        {
          "output_type": "stream",
          "text": [
            "(64, 1, 128, 128, 3)\n"
          ],
          "name": "stdout"
        },
        {
          "output_type": "error",
          "ename": "TypeError",
          "evalue": "ignored",
          "traceback": [
            "\u001b[0;31m---------------------------------------------------------------------------\u001b[0m",
            "\u001b[0;31mTypeError\u001b[0m                                 Traceback (most recent call last)",
            "\u001b[0;32m<ipython-input-148-964dfa169184>\u001b[0m in \u001b[0;36m<module>\u001b[0;34m()\u001b[0m\n\u001b[1;32m      3\u001b[0m   \u001b[0mprint\u001b[0m\u001b[0;34m(\u001b[0m\u001b[0mig\u001b[0m\u001b[0;34m.\u001b[0m\u001b[0mshape\u001b[0m\u001b[0;34m)\u001b[0m\u001b[0;34m\u001b[0m\u001b[0;34m\u001b[0m\u001b[0m\n\u001b[1;32m      4\u001b[0m   \u001b[0ml\u001b[0m \u001b[0;34m=\u001b[0m \u001b[0mnp\u001b[0m\u001b[0;34m.\u001b[0m\u001b[0mma\u001b[0m\u001b[0;34m.\u001b[0m\u001b[0mmasked_where\u001b[0m\u001b[0;34m(\u001b[0m\u001b[0mms\u001b[0m\u001b[0;34m[\u001b[0m\u001b[0;36m0\u001b[0m\u001b[0;34m]\u001b[0m \u001b[0;34m==\u001b[0m \u001b[0;36m0\u001b[0m\u001b[0;34m,\u001b[0m \u001b[0mms\u001b[0m\u001b[0;34m[\u001b[0m\u001b[0;36m0\u001b[0m\u001b[0;34m]\u001b[0m\u001b[0;34m)\u001b[0m\u001b[0;34m\u001b[0m\u001b[0;34m\u001b[0m\u001b[0m\n\u001b[0;32m----> 5\u001b[0;31m   \u001b[0mplt\u001b[0m\u001b[0;34m.\u001b[0m\u001b[0mimshow\u001b[0m\u001b[0;34m(\u001b[0m\u001b[0mig\u001b[0m\u001b[0;34m[\u001b[0m\u001b[0;36m0\u001b[0m\u001b[0;34m]\u001b[0m\u001b[0;34m)\u001b[0m\u001b[0;34m\u001b[0m\u001b[0;34m\u001b[0m\u001b[0m\n\u001b[0m\u001b[1;32m      6\u001b[0m   \u001b[0mplt\u001b[0m\u001b[0;34m.\u001b[0m\u001b[0mimshow\u001b[0m\u001b[0;34m(\u001b[0m\u001b[0mtf\u001b[0m\u001b[0;34m.\u001b[0m\u001b[0msqueeze\u001b[0m\u001b[0;34m(\u001b[0m\u001b[0ml\u001b[0m\u001b[0;34m)\u001b[0m \u001b[0;34m,\u001b[0m \u001b[0mcmap\u001b[0m\u001b[0;34m=\u001b[0m\u001b[0;34m'jet'\u001b[0m \u001b[0;34m,\u001b[0m \u001b[0malpha\u001b[0m\u001b[0;34m=\u001b[0m\u001b[0;36m0.7\u001b[0m\u001b[0;34m)\u001b[0m\u001b[0;34m\u001b[0m\u001b[0;34m\u001b[0m\u001b[0m\n\u001b[1;32m      7\u001b[0m   \u001b[0;32mbreak\u001b[0m\u001b[0;34m\u001b[0m\u001b[0;34m\u001b[0m\u001b[0m\n",
            "\u001b[0;32m/usr/local/lib/python3.6/dist-packages/matplotlib/pyplot.py\u001b[0m in \u001b[0;36mimshow\u001b[0;34m(X, cmap, norm, aspect, interpolation, alpha, vmin, vmax, origin, extent, shape, filternorm, filterrad, imlim, resample, url, data, **kwargs)\u001b[0m\n\u001b[1;32m   2675\u001b[0m         \u001b[0mfilternorm\u001b[0m\u001b[0;34m=\u001b[0m\u001b[0mfilternorm\u001b[0m\u001b[0;34m,\u001b[0m \u001b[0mfilterrad\u001b[0m\u001b[0;34m=\u001b[0m\u001b[0mfilterrad\u001b[0m\u001b[0;34m,\u001b[0m \u001b[0mimlim\u001b[0m\u001b[0;34m=\u001b[0m\u001b[0mimlim\u001b[0m\u001b[0;34m,\u001b[0m\u001b[0;34m\u001b[0m\u001b[0;34m\u001b[0m\u001b[0m\n\u001b[1;32m   2676\u001b[0m         resample=resample, url=url, **({\"data\": data} if data is not\n\u001b[0;32m-> 2677\u001b[0;31m         None else {}), **kwargs)\n\u001b[0m\u001b[1;32m   2678\u001b[0m     \u001b[0msci\u001b[0m\u001b[0;34m(\u001b[0m\u001b[0m__ret\u001b[0m\u001b[0;34m)\u001b[0m\u001b[0;34m\u001b[0m\u001b[0;34m\u001b[0m\u001b[0m\n\u001b[1;32m   2679\u001b[0m     \u001b[0;32mreturn\u001b[0m \u001b[0m__ret\u001b[0m\u001b[0;34m\u001b[0m\u001b[0;34m\u001b[0m\u001b[0m\n",
            "\u001b[0;32m/usr/local/lib/python3.6/dist-packages/matplotlib/__init__.py\u001b[0m in \u001b[0;36minner\u001b[0;34m(ax, data, *args, **kwargs)\u001b[0m\n\u001b[1;32m   1597\u001b[0m     \u001b[0;32mdef\u001b[0m \u001b[0minner\u001b[0m\u001b[0;34m(\u001b[0m\u001b[0max\u001b[0m\u001b[0;34m,\u001b[0m \u001b[0;34m*\u001b[0m\u001b[0margs\u001b[0m\u001b[0;34m,\u001b[0m \u001b[0mdata\u001b[0m\u001b[0;34m=\u001b[0m\u001b[0;32mNone\u001b[0m\u001b[0;34m,\u001b[0m \u001b[0;34m**\u001b[0m\u001b[0mkwargs\u001b[0m\u001b[0;34m)\u001b[0m\u001b[0;34m:\u001b[0m\u001b[0;34m\u001b[0m\u001b[0;34m\u001b[0m\u001b[0m\n\u001b[1;32m   1598\u001b[0m         \u001b[0;32mif\u001b[0m \u001b[0mdata\u001b[0m \u001b[0;32mis\u001b[0m \u001b[0;32mNone\u001b[0m\u001b[0;34m:\u001b[0m\u001b[0;34m\u001b[0m\u001b[0;34m\u001b[0m\u001b[0m\n\u001b[0;32m-> 1599\u001b[0;31m             \u001b[0;32mreturn\u001b[0m \u001b[0mfunc\u001b[0m\u001b[0;34m(\u001b[0m\u001b[0max\u001b[0m\u001b[0;34m,\u001b[0m \u001b[0;34m*\u001b[0m\u001b[0mmap\u001b[0m\u001b[0;34m(\u001b[0m\u001b[0msanitize_sequence\u001b[0m\u001b[0;34m,\u001b[0m \u001b[0margs\u001b[0m\u001b[0;34m)\u001b[0m\u001b[0;34m,\u001b[0m \u001b[0;34m**\u001b[0m\u001b[0mkwargs\u001b[0m\u001b[0;34m)\u001b[0m\u001b[0;34m\u001b[0m\u001b[0;34m\u001b[0m\u001b[0m\n\u001b[0m\u001b[1;32m   1600\u001b[0m \u001b[0;34m\u001b[0m\u001b[0m\n\u001b[1;32m   1601\u001b[0m         \u001b[0mbound\u001b[0m \u001b[0;34m=\u001b[0m \u001b[0mnew_sig\u001b[0m\u001b[0;34m.\u001b[0m\u001b[0mbind\u001b[0m\u001b[0;34m(\u001b[0m\u001b[0max\u001b[0m\u001b[0;34m,\u001b[0m \u001b[0;34m*\u001b[0m\u001b[0margs\u001b[0m\u001b[0;34m,\u001b[0m \u001b[0;34m**\u001b[0m\u001b[0mkwargs\u001b[0m\u001b[0;34m)\u001b[0m\u001b[0;34m\u001b[0m\u001b[0;34m\u001b[0m\u001b[0m\n",
            "\u001b[0;32m/usr/local/lib/python3.6/dist-packages/matplotlib/cbook/deprecation.py\u001b[0m in \u001b[0;36mwrapper\u001b[0;34m(*args, **kwargs)\u001b[0m\n\u001b[1;32m    367\u001b[0m                 \u001b[0;34mf\"%(removal)s.  If any parameter follows {name!r}, they \"\u001b[0m\u001b[0;34m\u001b[0m\u001b[0;34m\u001b[0m\u001b[0m\n\u001b[1;32m    368\u001b[0m                 f\"should be pass as keyword, not positionally.\")\n\u001b[0;32m--> 369\u001b[0;31m         \u001b[0;32mreturn\u001b[0m \u001b[0mfunc\u001b[0m\u001b[0;34m(\u001b[0m\u001b[0;34m*\u001b[0m\u001b[0margs\u001b[0m\u001b[0;34m,\u001b[0m \u001b[0;34m**\u001b[0m\u001b[0mkwargs\u001b[0m\u001b[0;34m)\u001b[0m\u001b[0;34m\u001b[0m\u001b[0;34m\u001b[0m\u001b[0m\n\u001b[0m\u001b[1;32m    370\u001b[0m \u001b[0;34m\u001b[0m\u001b[0m\n\u001b[1;32m    371\u001b[0m     \u001b[0;32mreturn\u001b[0m \u001b[0mwrapper\u001b[0m\u001b[0;34m\u001b[0m\u001b[0;34m\u001b[0m\u001b[0m\n",
            "\u001b[0;32m/usr/local/lib/python3.6/dist-packages/matplotlib/cbook/deprecation.py\u001b[0m in \u001b[0;36mwrapper\u001b[0;34m(*args, **kwargs)\u001b[0m\n\u001b[1;32m    367\u001b[0m                 \u001b[0;34mf\"%(removal)s.  If any parameter follows {name!r}, they \"\u001b[0m\u001b[0;34m\u001b[0m\u001b[0;34m\u001b[0m\u001b[0m\n\u001b[1;32m    368\u001b[0m                 f\"should be pass as keyword, not positionally.\")\n\u001b[0;32m--> 369\u001b[0;31m         \u001b[0;32mreturn\u001b[0m \u001b[0mfunc\u001b[0m\u001b[0;34m(\u001b[0m\u001b[0;34m*\u001b[0m\u001b[0margs\u001b[0m\u001b[0;34m,\u001b[0m \u001b[0;34m**\u001b[0m\u001b[0mkwargs\u001b[0m\u001b[0;34m)\u001b[0m\u001b[0;34m\u001b[0m\u001b[0;34m\u001b[0m\u001b[0m\n\u001b[0m\u001b[1;32m    370\u001b[0m \u001b[0;34m\u001b[0m\u001b[0m\n\u001b[1;32m    371\u001b[0m     \u001b[0;32mreturn\u001b[0m \u001b[0mwrapper\u001b[0m\u001b[0;34m\u001b[0m\u001b[0;34m\u001b[0m\u001b[0m\n",
            "\u001b[0;32m/usr/local/lib/python3.6/dist-packages/matplotlib/axes/_axes.py\u001b[0m in \u001b[0;36mimshow\u001b[0;34m(self, X, cmap, norm, aspect, interpolation, alpha, vmin, vmax, origin, extent, shape, filternorm, filterrad, imlim, resample, url, **kwargs)\u001b[0m\n\u001b[1;32m   5677\u001b[0m                               resample=resample, **kwargs)\n\u001b[1;32m   5678\u001b[0m \u001b[0;34m\u001b[0m\u001b[0m\n\u001b[0;32m-> 5679\u001b[0;31m         \u001b[0mim\u001b[0m\u001b[0;34m.\u001b[0m\u001b[0mset_data\u001b[0m\u001b[0;34m(\u001b[0m\u001b[0mX\u001b[0m\u001b[0;34m)\u001b[0m\u001b[0;34m\u001b[0m\u001b[0;34m\u001b[0m\u001b[0m\n\u001b[0m\u001b[1;32m   5680\u001b[0m         \u001b[0mim\u001b[0m\u001b[0;34m.\u001b[0m\u001b[0mset_alpha\u001b[0m\u001b[0;34m(\u001b[0m\u001b[0malpha\u001b[0m\u001b[0;34m)\u001b[0m\u001b[0;34m\u001b[0m\u001b[0;34m\u001b[0m\u001b[0m\n\u001b[1;32m   5681\u001b[0m         \u001b[0;32mif\u001b[0m \u001b[0mim\u001b[0m\u001b[0;34m.\u001b[0m\u001b[0mget_clip_path\u001b[0m\u001b[0;34m(\u001b[0m\u001b[0;34m)\u001b[0m \u001b[0;32mis\u001b[0m \u001b[0;32mNone\u001b[0m\u001b[0;34m:\u001b[0m\u001b[0;34m\u001b[0m\u001b[0;34m\u001b[0m\u001b[0m\n",
            "\u001b[0;32m/usr/local/lib/python3.6/dist-packages/matplotlib/image.py\u001b[0m in \u001b[0;36mset_data\u001b[0;34m(self, A)\u001b[0m\n\u001b[1;32m    688\u001b[0m                 or self._A.ndim == 3 and self._A.shape[-1] in [3, 4]):\n\u001b[1;32m    689\u001b[0m             raise TypeError(\"Invalid shape {} for image data\"\n\u001b[0;32m--> 690\u001b[0;31m                             .format(self._A.shape))\n\u001b[0m\u001b[1;32m    691\u001b[0m \u001b[0;34m\u001b[0m\u001b[0m\n\u001b[1;32m    692\u001b[0m         \u001b[0;32mif\u001b[0m \u001b[0mself\u001b[0m\u001b[0;34m.\u001b[0m\u001b[0m_A\u001b[0m\u001b[0;34m.\u001b[0m\u001b[0mndim\u001b[0m \u001b[0;34m==\u001b[0m \u001b[0;36m3\u001b[0m\u001b[0;34m:\u001b[0m\u001b[0;34m\u001b[0m\u001b[0;34m\u001b[0m\u001b[0m\n",
            "\u001b[0;31mTypeError\u001b[0m: Invalid shape (1, 128, 128, 3) for image data"
          ]
        },
        {
          "output_type": "display_data",
          "data": {
            "image/png": "[encoded data removed]",
            "text/plain": [
              "<Figure size 432x288 with 1 Axes>"
            ]
          },
          "metadata": {
            "tags": []
          }
        }
      ]
    },
    {
      "cell_type": "code",
      "metadata": {
        "id": "mQ2kScBKY9NP",
        "colab_type": "code",
        "colab": {}
      },
      "source": [
        "img_tensor = tf.keras.layers.Input((128 , 128 , 3) , name = 'img')\n",
        "model = U_Net(img_tensor)\n",
        "model.compile(optimizer = tf.keras.optimizers.Adam(),\n",
        "             loss = 'binary_crossentropy',\n",
        "             metrics = ['accuracy'])"
      ],
      "execution_count": 0,
      "outputs": []
    },
    {
      "cell_type": "code",
      "metadata": {
        "id": "UOR2W8VMhxAL",
        "colab_type": "code",
        "outputId": "5808c4d0-49ba-419e-b196-c4886a2f17d7",
        "colab": {
          "base_uri": "https://localhost:8080/",
          "height": 34
        }
      },
      "source": [
        "img_tensor.shape"
      ],
      "execution_count": 72,
      "outputs": [
        {
          "output_type": "execute_result",
          "data": {
            "text/plain": [
              "TensorShape([None, 128, 128, 3])"
            ]
          },
          "metadata": {
            "tags": []
          },
          "execution_count": 72
        }
      ]
    },
    {
      "cell_type": "code",
      "metadata": {
        "id": "N9IVGj40d29d",
        "colab_type": "code",
        "outputId": "dd30ee47-1877-4459-ce74-2dab0c9b53e5",
        "colab": {
          "base_uri": "https://localhost:8080/",
          "height": 1000
        }
      },
      "source": [
        "model.summary()"
      ],
      "execution_count": 74,
      "outputs": [
        {
          "output_type": "stream",
          "text": [
            "Model: \"model_1\"\n",
            "__________________________________________________________________________________________________\n",
            "Layer (type)                    Output Shape         Param #     Connected to                     \n",
            "==================================================================================================\n",
            "img (InputLayer)                [(None, 128, 128, 3) 0                                            \n",
            "__________________________________________________________________________________________________\n",
            "conv2d_19 (Conv2D)              (None, 128, 128, 16) 448         img[0][0]                        \n",
            "__________________________________________________________________________________________________\n",
            "batch_normalization_18 (BatchNo (None, 128, 128, 16) 64          conv2d_19[0][0]                  \n",
            "__________________________________________________________________________________________________\n",
            "activation_18 (Activation)      (None, 128, 128, 16) 0           batch_normalization_18[0][0]     \n",
            "__________________________________________________________________________________________________\n",
            "conv2d_20 (Conv2D)              (None, 128, 128, 16) 2320        activation_18[0][0]              \n",
            "__________________________________________________________________________________________________\n",
            "batch_normalization_19 (BatchNo (None, 128, 128, 16) 64          conv2d_20[0][0]                  \n",
            "__________________________________________________________________________________________________\n",
            "activation_19 (Activation)      (None, 128, 128, 16) 0           batch_normalization_19[0][0]     \n",
            "__________________________________________________________________________________________________\n",
            "max_pooling2d_4 (MaxPooling2D)  (None, 64, 64, 16)   0           activation_19[0][0]              \n",
            "__________________________________________________________________________________________________\n",
            "dropout_8 (Dropout)             (None, 64, 64, 16)   0           max_pooling2d_4[0][0]            \n",
            "__________________________________________________________________________________________________\n",
            "conv2d_21 (Conv2D)              (None, 64, 64, 32)   4640        dropout_8[0][0]                  \n",
            "__________________________________________________________________________________________________\n",
            "batch_normalization_20 (BatchNo (None, 64, 64, 32)   128         conv2d_21[0][0]                  \n",
            "__________________________________________________________________________________________________\n",
            "activation_20 (Activation)      (None, 64, 64, 32)   0           batch_normalization_20[0][0]     \n",
            "__________________________________________________________________________________________________\n",
            "conv2d_22 (Conv2D)              (None, 64, 64, 32)   9248        activation_20[0][0]              \n",
            "__________________________________________________________________________________________________\n",
            "batch_normalization_21 (BatchNo (None, 64, 64, 32)   128         conv2d_22[0][0]                  \n",
            "__________________________________________________________________________________________________\n",
            "activation_21 (Activation)      (None, 64, 64, 32)   0           batch_normalization_21[0][0]     \n",
            "__________________________________________________________________________________________________\n",
            "max_pooling2d_5 (MaxPooling2D)  (None, 32, 32, 32)   0           activation_21[0][0]              \n",
            "__________________________________________________________________________________________________\n",
            "dropout_9 (Dropout)             (None, 32, 32, 32)   0           max_pooling2d_5[0][0]            \n",
            "__________________________________________________________________________________________________\n",
            "conv2d_23 (Conv2D)              (None, 32, 32, 64)   18496       dropout_9[0][0]                  \n",
            "__________________________________________________________________________________________________\n",
            "batch_normalization_22 (BatchNo (None, 32, 32, 64)   256         conv2d_23[0][0]                  \n",
            "__________________________________________________________________________________________________\n",
            "activation_22 (Activation)      (None, 32, 32, 64)   0           batch_normalization_22[0][0]     \n",
            "__________________________________________________________________________________________________\n",
            "conv2d_24 (Conv2D)              (None, 32, 32, 64)   36928       activation_22[0][0]              \n",
            "__________________________________________________________________________________________________\n",
            "batch_normalization_23 (BatchNo (None, 32, 32, 64)   256         conv2d_24[0][0]                  \n",
            "__________________________________________________________________________________________________\n",
            "activation_23 (Activation)      (None, 32, 32, 64)   0           batch_normalization_23[0][0]     \n",
            "__________________________________________________________________________________________________\n",
            "max_pooling2d_6 (MaxPooling2D)  (None, 16, 16, 64)   0           activation_23[0][0]              \n",
            "__________________________________________________________________________________________________\n",
            "dropout_10 (Dropout)            (None, 16, 16, 64)   0           max_pooling2d_6[0][0]            \n",
            "__________________________________________________________________________________________________\n",
            "conv2d_25 (Conv2D)              (None, 16, 16, 128)  73856       dropout_10[0][0]                 \n",
            "__________________________________________________________________________________________________\n",
            "batch_normalization_24 (BatchNo (None, 16, 16, 128)  512         conv2d_25[0][0]                  \n",
            "__________________________________________________________________________________________________\n",
            "activation_24 (Activation)      (None, 16, 16, 128)  0           batch_normalization_24[0][0]     \n",
            "__________________________________________________________________________________________________\n",
            "conv2d_26 (Conv2D)              (None, 16, 16, 128)  147584      activation_24[0][0]              \n",
            "__________________________________________________________________________________________________\n",
            "batch_normalization_25 (BatchNo (None, 16, 16, 128)  512         conv2d_26[0][0]                  \n",
            "__________________________________________________________________________________________________\n",
            "activation_25 (Activation)      (None, 16, 16, 128)  0           batch_normalization_25[0][0]     \n",
            "__________________________________________________________________________________________________\n",
            "max_pooling2d_7 (MaxPooling2D)  (None, 8, 8, 128)    0           activation_25[0][0]              \n",
            "__________________________________________________________________________________________________\n",
            "dropout_11 (Dropout)            (None, 8, 8, 128)    0           max_pooling2d_7[0][0]            \n",
            "__________________________________________________________________________________________________\n",
            "conv2d_27 (Conv2D)              (None, 8, 8, 256)    295168      dropout_11[0][0]                 \n",
            "__________________________________________________________________________________________________\n",
            "batch_normalization_26 (BatchNo (None, 8, 8, 256)    1024        conv2d_27[0][0]                  \n",
            "__________________________________________________________________________________________________\n",
            "activation_26 (Activation)      (None, 8, 8, 256)    0           batch_normalization_26[0][0]     \n",
            "__________________________________________________________________________________________________\n",
            "conv2d_28 (Conv2D)              (None, 8, 8, 256)    590080      activation_26[0][0]              \n",
            "__________________________________________________________________________________________________\n",
            "batch_normalization_27 (BatchNo (None, 8, 8, 256)    1024        conv2d_28[0][0]                  \n",
            "__________________________________________________________________________________________________\n",
            "activation_27 (Activation)      (None, 8, 8, 256)    0           batch_normalization_27[0][0]     \n",
            "__________________________________________________________________________________________________\n",
            "conv2d_transpose_4 (Conv2DTrans (None, 16, 16, 128)  295040      activation_27[0][0]              \n",
            "__________________________________________________________________________________________________\n",
            "concatenate_4 (Concatenate)     (None, 16, 16, 256)  0           conv2d_transpose_4[0][0]         \n",
            "                                                                 activation_25[0][0]              \n",
            "__________________________________________________________________________________________________\n",
            "dropout_12 (Dropout)            (None, 16, 16, 256)  0           concatenate_4[0][0]              \n",
            "__________________________________________________________________________________________________\n",
            "conv2d_29 (Conv2D)              (None, 16, 16, 128)  295040      dropout_12[0][0]                 \n",
            "__________________________________________________________________________________________________\n",
            "batch_normalization_28 (BatchNo (None, 16, 16, 128)  512         conv2d_29[0][0]                  \n",
            "__________________________________________________________________________________________________\n",
            "activation_28 (Activation)      (None, 16, 16, 128)  0           batch_normalization_28[0][0]     \n",
            "__________________________________________________________________________________________________\n",
            "conv2d_30 (Conv2D)              (None, 16, 16, 128)  147584      activation_28[0][0]              \n",
            "__________________________________________________________________________________________________\n",
            "batch_normalization_29 (BatchNo (None, 16, 16, 128)  512         conv2d_30[0][0]                  \n",
            "__________________________________________________________________________________________________\n",
            "activation_29 (Activation)      (None, 16, 16, 128)  0           batch_normalization_29[0][0]     \n",
            "__________________________________________________________________________________________________\n",
            "conv2d_transpose_5 (Conv2DTrans (None, 32, 32, 64)   73792       activation_29[0][0]              \n",
            "__________________________________________________________________________________________________\n",
            "concatenate_5 (Concatenate)     (None, 32, 32, 128)  0           conv2d_transpose_5[0][0]         \n",
            "                                                                 activation_23[0][0]              \n",
            "__________________________________________________________________________________________________\n",
            "dropout_13 (Dropout)            (None, 32, 32, 128)  0           concatenate_5[0][0]              \n",
            "__________________________________________________________________________________________________\n",
            "conv2d_31 (Conv2D)              (None, 32, 32, 64)   73792       dropout_13[0][0]                 \n",
            "__________________________________________________________________________________________________\n",
            "batch_normalization_30 (BatchNo (None, 32, 32, 64)   256         conv2d_31[0][0]                  \n",
            "__________________________________________________________________________________________________\n",
            "activation_30 (Activation)      (None, 32, 32, 64)   0           batch_normalization_30[0][0]     \n",
            "__________________________________________________________________________________________________\n",
            "conv2d_32 (Conv2D)              (None, 32, 32, 64)   36928       activation_30[0][0]              \n",
            "__________________________________________________________________________________________________\n",
            "batch_normalization_31 (BatchNo (None, 32, 32, 64)   256         conv2d_32[0][0]                  \n",
            "__________________________________________________________________________________________________\n",
            "activation_31 (Activation)      (None, 32, 32, 64)   0           batch_normalization_31[0][0]     \n",
            "__________________________________________________________________________________________________\n",
            "conv2d_transpose_6 (Conv2DTrans (None, 64, 64, 32)   18464       activation_31[0][0]              \n",
            "__________________________________________________________________________________________________\n",
            "concatenate_6 (Concatenate)     (None, 64, 64, 64)   0           conv2d_transpose_6[0][0]         \n",
            "                                                                 activation_21[0][0]              \n",
            "__________________________________________________________________________________________________\n",
            "dropout_14 (Dropout)            (None, 64, 64, 64)   0           concatenate_6[0][0]              \n",
            "__________________________________________________________________________________________________\n",
            "conv2d_33 (Conv2D)              (None, 64, 64, 32)   18464       dropout_14[0][0]                 \n",
            "__________________________________________________________________________________________________\n",
            "batch_normalization_32 (BatchNo (None, 64, 64, 32)   128         conv2d_33[0][0]                  \n",
            "__________________________________________________________________________________________________\n",
            "activation_32 (Activation)      (None, 64, 64, 32)   0           batch_normalization_32[0][0]     \n",
            "__________________________________________________________________________________________________\n",
            "conv2d_34 (Conv2D)              (None, 64, 64, 32)   9248        activation_32[0][0]              \n",
            "__________________________________________________________________________________________________\n",
            "batch_normalization_33 (BatchNo (None, 64, 64, 32)   128         conv2d_34[0][0]                  \n",
            "__________________________________________________________________________________________________\n",
            "activation_33 (Activation)      (None, 64, 64, 32)   0           batch_normalization_33[0][0]     \n",
            "__________________________________________________________________________________________________\n",
            "conv2d_transpose_7 (Conv2DTrans (None, 128, 128, 16) 4624        activation_33[0][0]              \n",
            "__________________________________________________________________________________________________\n",
            "concatenate_7 (Concatenate)     (None, 128, 128, 32) 0           conv2d_transpose_7[0][0]         \n",
            "                                                                 activation_19[0][0]              \n",
            "__________________________________________________________________________________________________\n",
            "dropout_15 (Dropout)            (None, 128, 128, 32) 0           concatenate_7[0][0]              \n",
            "__________________________________________________________________________________________________\n",
            "conv2d_35 (Conv2D)              (None, 128, 128, 16) 4624        dropout_15[0][0]                 \n",
            "__________________________________________________________________________________________________\n",
            "batch_normalization_34 (BatchNo (None, 128, 128, 16) 64          conv2d_35[0][0]                  \n",
            "__________________________________________________________________________________________________\n",
            "activation_34 (Activation)      (None, 128, 128, 16) 0           batch_normalization_34[0][0]     \n",
            "__________________________________________________________________________________________________\n",
            "conv2d_36 (Conv2D)              (None, 128, 128, 16) 2320        activation_34[0][0]              \n",
            "__________________________________________________________________________________________________\n",
            "batch_normalization_35 (BatchNo (None, 128, 128, 16) 64          conv2d_36[0][0]                  \n",
            "__________________________________________________________________________________________________\n",
            "activation_35 (Activation)      (None, 128, 128, 16) 0           batch_normalization_35[0][0]     \n",
            "__________________________________________________________________________________________________\n",
            "conv2d_37 (Conv2D)              (None, 128, 128, 1)  17          activation_35[0][0]              \n",
            "==================================================================================================\n",
            "Total params: 2,164,593\n",
            "Trainable params: 2,161,649\n",
            "Non-trainable params: 2,944\n",
            "__________________________________________________________________________________________________\n"
          ],
          "name": "stdout"
        }
      ]
    },
    {
      "cell_type": "code",
      "metadata": {
        "id": "FH3ygYgzeWKn",
        "colab_type": "code",
        "colab": {}
      },
      "source": [
        "callbacks = [\n",
        "    tf.keras.callbacks.EarlyStopping(patience=10, verbose=1),\n",
        "    tf.keras.callbacks.ReduceLROnPlateau(factor=0.1, patience=5, min_lr=0.00001, verbose=1),\n",
        "    tf.keras.callbacks.ModelCheckpoint('model_sky_region.h5', verbose=1, save_best_only=True, save_weights_only=True)\n",
        "]"
      ],
      "execution_count": 0,
      "outputs": []
    },
    {
      "cell_type": "code",
      "metadata": {
        "id": "8WWalBQOehx6",
        "colab_type": "code",
        "outputId": "305adf7b-c454-45cd-dcb8-046833d2d0d3",
        "colab": {
          "base_uri": "https://localhost:8080/",
          "height": 513
        }
      },
      "source": [
        "model.fit(dataset , epochs=5 , callbacks=callbacks)"
      ],
      "execution_count": 86,
      "outputs": [
        {
          "output_type": "stream",
          "text": [
            "Epoch 1/5\n"
          ],
          "name": "stdout"
        },
        {
          "output_type": "stream",
          "text": [
            "/usr/local/lib/python3.6/dist-packages/keras_preprocessing/image/utils.py:104: UserWarning: grayscale is deprecated. Please use color_mode = \"grayscale\"\n",
            "  warnings.warn('grayscale is deprecated. Please use '\n"
          ],
          "name": "stderr"
        },
        {
          "output_type": "stream",
          "text": [
            "668/669 [============================>.] - ETA: 0s - loss: 0.1161 - accuracy: 0.9623WARNING:tensorflow:Early stopping conditioned on metric `val_loss` which is not available. Available metrics are: loss,accuracy\n",
            "WARNING:tensorflow:Reduce LR on plateau conditioned on metric `val_loss` which is not available. Available metrics are: loss,accuracy,lr\n",
            "WARNING:tensorflow:Can save best model only with val_loss available, skipping.\n",
            "669/669 [==============================] - 291s 434ms/step - loss: 0.1161 - accuracy: 0.9623\n",
            "Epoch 2/5\n",
            "668/669 [============================>.] - ETA: 0s - loss: 0.1188 - accuracy: 0.9571WARNING:tensorflow:Early stopping conditioned on metric `val_loss` which is not available. Available metrics are: loss,accuracy\n",
            "WARNING:tensorflow:Reduce LR on plateau conditioned on metric `val_loss` which is not available. Available metrics are: loss,accuracy,lr\n",
            "WARNING:tensorflow:Can save best model only with val_loss available, skipping.\n",
            "669/669 [==============================] - 261s 389ms/step - loss: 0.1188 - accuracy: 0.9571\n",
            "Epoch 3/5\n",
            "668/669 [============================>.] - ETA: 0s - loss: 0.1249 - accuracy: 0.9547WARNING:tensorflow:Early stopping conditioned on metric `val_loss` which is not available. Available metrics are: loss,accuracy\n",
            "WARNING:tensorflow:Reduce LR on plateau conditioned on metric `val_loss` which is not available. Available metrics are: loss,accuracy,lr\n",
            "WARNING:tensorflow:Can save best model only with val_loss available, skipping.\n",
            "669/669 [==============================] - 261s 390ms/step - loss: 0.1248 - accuracy: 0.9547\n",
            "Epoch 4/5\n",
            "668/669 [============================>.] - ETA: 0s - loss: 0.1223 - accuracy: 0.9557WARNING:tensorflow:Early stopping conditioned on metric `val_loss` which is not available. Available metrics are: loss,accuracy\n",
            "WARNING:tensorflow:Reduce LR on plateau conditioned on metric `val_loss` which is not available. Available metrics are: loss,accuracy,lr\n",
            "WARNING:tensorflow:Can save best model only with val_loss available, skipping.\n",
            "669/669 [==============================] - 260s 388ms/step - loss: 0.1222 - accuracy: 0.9557\n",
            "Epoch 5/5\n",
            "668/669 [============================>.] - ETA: 0s - loss: 0.1149 - accuracy: 0.9581WARNING:tensorflow:Early stopping conditioned on metric `val_loss` which is not available. Available metrics are: loss,accuracy\n",
            "WARNING:tensorflow:Reduce LR on plateau conditioned on metric `val_loss` which is not available. Available metrics are: loss,accuracy,lr\n",
            "WARNING:tensorflow:Can save best model only with val_loss available, skipping.\n",
            "669/669 [==============================] - 259s 388ms/step - loss: 0.1148 - accuracy: 0.9581\n"
          ],
          "name": "stdout"
        },
        {
          "output_type": "execute_result",
          "data": {
            "text/plain": [
              "<tensorflow.python.keras.callbacks.History at 0x7eff2ef8bda0>"
            ]
          },
          "metadata": {
            "tags": []
          },
          "execution_count": 86
        }
      ]
    },
    {
      "cell_type": "code",
      "metadata": {
        "id": "FFWap7GGnLlb",
        "colab_type": "code",
        "outputId": "0ab9679e-c84e-4b8f-f330-692f8e66791e",
        "colab": {
          "base_uri": "https://localhost:8080/",
          "height": 34
        }
      },
      "source": [
        "%cp /root/.keras/datasets/19834/20140728_213246.jpg /content/"
      ],
      "execution_count": 0,
      "outputs": [
        {
          "output_type": "stream",
          "text": [
            "cp: cannot stat '/root/.keras/datasets/19834/20140728_213246.jpg': No such file or directory\n"
          ],
          "name": "stdout"
        }
      ]
    },
    {
      "cell_type": "code",
      "metadata": {
        "id": "t2JkjWGdezS7",
        "colab_type": "code",
        "colab": {}
      },
      "source": [
        "for image , mask in zip(images , mask_map):\n",
        "  try:\n",
        "    im = Image.load(image)\n",
        "    im.verify() #I perform also verify, don't know if he sees other types o defects\n",
        "    im.close() #reload is necessary in my case\n",
        "    im = Image.load(filename) \n",
        "    im.transpose(PIL.Image.FLIP_LEFT_RIGHT)\n",
        "    im.close()\n",
        "  except: \n",
        "    # print(image)\n",
        "    images.remove(image)\n",
        "    mask_map.remove(mask)"
      ],
      "execution_count": 0,
      "outputs": []
    },
    {
      "cell_type": "code",
      "metadata": {
        "id": "grWpD2vuoO5o",
        "colab_type": "code",
        "colab": {
          "base_uri": "https://localhost:8080/",
          "height": 34
        },
        "outputId": "f8deb18a-9fc5-4c77-c8d4-9ff24dd14dd0"
      },
      "source": [
        "len(images)"
      ],
      "execution_count": 83,
      "outputs": [
        {
          "output_type": "execute_result",
          "data": {
            "text/plain": [
              "42781"
            ]
          },
          "metadata": {
            "tags": []
          },
          "execution_count": 83
        }
      ]
    },
    {
      "cell_type": "code",
      "metadata": {
        "id": "8ryFhQbwr3aP",
        "colab_type": "code",
        "colab": {
          "base_uri": "https://localhost:8080/",
          "height": 285
        },
        "outputId": "f03be4ea-2af7-4855-b777-558f815147e5"
      },
      "source": [
        "pred = model.predict(tf.expand_dims(test , axis=0))\n",
        "pred = np.ma.masked_where(pred == 0 , pred)\n",
        "plt.imshow(i)\n",
        "plt.imshow(tf.squeeze(pred) , alpha=1 , cmap='gray')"
      ],
      "execution_count": 101,
      "outputs": [
        {
          "output_type": "execute_result",
          "data": {
            "text/plain": [
              "<matplotlib.image.AxesImage at 0x7eff27b5eb00>"
            ]
          },
          "metadata": {
            "tags": []
          },
          "execution_count": 101
        },
        {
          "output_type": "display_data",
          "data": {
            "image/png": "[encoded data removed]",
            "text/plain": [
              "<Figure size 432x288 with 1 Axes>"
            ]
          },
          "metadata": {
            "tags": []
          }
        }
      ]
    },
    {
      "cell_type": "code",
      "metadata": {
        "id": "EdcGGd2GvXzv",
        "colab_type": "code",
        "colab": {}
      },
      "source": [
        "test = tf.keras.preprocessing.image.load_img('/content/images.jpg' , target_size=(128 , 128))\n",
        "test = tf.keras.preprocessing.image.img_to_array(test , dtype='float32')\n",
        "test = test / 255.0"
      ],
      "execution_count": 0,
      "outputs": []
    },
    {
      "cell_type": "code",
      "metadata": {
        "id": "shVbq6hE21QY",
        "colab_type": "code",
        "colab": {
          "base_uri": "https://localhost:8080/",
          "height": 285
        },
        "outputId": "ba7ce9bd-f87b-4883-be9a-20822b61c7d3"
      },
      "source": [
        "plt.imshow(test)"
      ],
      "execution_count": 100,
      "outputs": [
        {
          "output_type": "execute_result",
          "data": {
            "text/plain": [
              "<matplotlib.image.AxesImage at 0x7eff273604a8>"
            ]
          },
          "metadata": {
            "tags": []
          },
          "execution_count": 100
        },
        {
          "output_type": "display_data",
          "data": {
            "image/png": "[encoded data removed]",
            "text/plain": [
              "<Figure size 432x288 with 1 Axes>"
            ]
          },
          "metadata": {
            "tags": []
          }
        }
      ]
    },
    {
      "cell_type": "code",
      "metadata": {
        "id": "xEKZ1cnT3gH_",
        "colab_type": "code",
        "colab": {}
      },
      "source": [
        ""
      ],
      "execution_count": 0,
      "outputs": []
    }
  ]
}